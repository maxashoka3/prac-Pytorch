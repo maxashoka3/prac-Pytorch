{
  "nbformat": 4,
  "nbformat_minor": 0,
  "metadata": {
    "colab": {
      "provenance": [],
      "authorship_tag": "ABX9TyMQEr/LPrhWMW3jV4qRiW6U",
      "include_colab_link": true
    },
    "kernelspec": {
      "name": "python3",
      "display_name": "Python 3"
    },
    "language_info": {
      "name": "python"
    }
  },
  "cells": [
    {
      "cell_type": "markdown",
      "metadata": {
        "id": "view-in-github",
        "colab_type": "text"
      },
      "source": [
        "<a href=\"https://colab.research.google.com/github/maxashoka3/prac-Pytorch/blob/main/Pytroch_lession_day_1.ipynb\" target=\"_parent\"><img src=\"https://colab.research.google.com/assets/colab-badge.svg\" alt=\"Open In Colab\"/></a>"
      ]
    },
    {
      "cell_type": "code",
      "execution_count": null,
      "metadata": {
        "colab": {
          "base_uri": "https://localhost:8080/"
        },
        "id": "s9APxu-OlBxk",
        "outputId": "0d9c0326-4ea9-4638-a9d4-e4b0d4f15ca8"
      },
      "outputs": [
        {
          "output_type": "stream",
          "name": "stdout",
          "text": [
            "Sat Jan 20 07:59:15 2024       \n",
            "+---------------------------------------------------------------------------------------+\n",
            "| NVIDIA-SMI 535.104.05             Driver Version: 535.104.05   CUDA Version: 12.2     |\n",
            "|-----------------------------------------+----------------------+----------------------+\n",
            "| GPU  Name                 Persistence-M | Bus-Id        Disp.A | Volatile Uncorr. ECC |\n",
            "| Fan  Temp   Perf          Pwr:Usage/Cap |         Memory-Usage | GPU-Util  Compute M. |\n",
            "|                                         |                      |               MIG M. |\n",
            "|=========================================+======================+======================|\n",
            "|   0  Tesla T4                       Off | 00000000:00:04.0 Off |                    0 |\n",
            "| N/A   54C    P8              10W /  70W |      0MiB / 15360MiB |      0%      Default |\n",
            "|                                         |                      |                  N/A |\n",
            "+-----------------------------------------+----------------------+----------------------+\n",
            "                                                                                         \n",
            "+---------------------------------------------------------------------------------------+\n",
            "| Processes:                                                                            |\n",
            "|  GPU   GI   CI        PID   Type   Process name                            GPU Memory |\n",
            "|        ID   ID                                                             Usage      |\n",
            "|=======================================================================================|\n",
            "|  No running processes found                                                           |\n",
            "+---------------------------------------------------------------------------------------+\n"
          ]
        }
      ],
      "source": [
        "# checking the gpu\n",
        "! nvidia-smi\n"
      ]
    },
    {
      "cell_type": "markdown",
      "source": [
        "## PY Torch Fundamentals\n"
      ],
      "metadata": {
        "id": "duSNuB4Y4S_k"
      }
    },
    {
      "cell_type": "code",
      "source": [
        "import torch\n",
        "import pandas as pd\n",
        "import numpy as np\n",
        "import matplotlib.pyplot as plt\n"
      ],
      "metadata": {
        "id": "AKIZ781y7_ZU"
      },
      "execution_count": null,
      "outputs": []
    },
    {
      "cell_type": "code",
      "source": [
        "print(torch.__version__)"
      ],
      "metadata": {
        "colab": {
          "base_uri": "https://localhost:8080/"
        },
        "id": "E7xav0wf8ZZ3",
        "outputId": "c3bef21c-3cad-4675-9e5f-d29fbf6f2236"
      },
      "execution_count": null,
      "outputs": [
        {
          "output_type": "stream",
          "name": "stdout",
          "text": [
            "2.1.0+cu121\n"
          ]
        }
      ]
    },
    {
      "cell_type": "markdown",
      "source": [
        "## Tensor"
      ],
      "metadata": {
        "id": "mnUF29id89ZL"
      }
    },
    {
      "cell_type": "markdown",
      "source": [
        "### Creating tensor"
      ],
      "metadata": {
        "id": "7mjf8wCa8gEz"
      }
    },
    {
      "cell_type": "code",
      "source": [
        "# creating scalar torch\n",
        "scalar =  torch.tensor(8)\n",
        "scalar"
      ],
      "metadata": {
        "colab": {
          "base_uri": "https://localhost:8080/"
        },
        "id": "x4PgT4_p9NAS",
        "outputId": "c7c89bbf-a9af-4712-c9e1-d817e18b5b71"
      },
      "execution_count": null,
      "outputs": [
        {
          "output_type": "execute_result",
          "data": {
            "text/plain": [
              "tensor(8)"
            ]
          },
          "metadata": {},
          "execution_count": 5
        }
      ]
    },
    {
      "cell_type": "code",
      "source": [
        "# get tensor back as python int\n",
        "scalar.item()"
      ],
      "metadata": {
        "colab": {
          "base_uri": "https://localhost:8080/"
        },
        "id": "7nFSDsDs9RB8",
        "outputId": "f8e4b220-de8a-485f-a33d-b8bb49c1f69f"
      },
      "execution_count": null,
      "outputs": [
        {
          "output_type": "execute_result",
          "data": {
            "text/plain": [
              "8"
            ]
          },
          "metadata": {},
          "execution_count": 7
        }
      ]
    },
    {
      "cell_type": "code",
      "source": [
        "# vector\n",
        "vector = torch.tensor([7,7])\n",
        "vector"
      ],
      "metadata": {
        "colab": {
          "base_uri": "https://localhost:8080/"
        },
        "id": "vpxgqSDc986Q",
        "outputId": "3320afa9-b2f6-48ba-ffb7-9fd4e6a0d289"
      },
      "execution_count": null,
      "outputs": [
        {
          "output_type": "execute_result",
          "data": {
            "text/plain": [
              "tensor([7, 7])"
            ]
          },
          "metadata": {},
          "execution_count": 9
        }
      ]
    },
    {
      "cell_type": "code",
      "source": [
        "vector.ndim"
      ],
      "metadata": {
        "colab": {
          "base_uri": "https://localhost:8080/"
        },
        "id": "Xf7P3yAi-LTI",
        "outputId": "2372ac38-8909-4f60-914c-33a1cce39e43"
      },
      "execution_count": null,
      "outputs": [
        {
          "output_type": "execute_result",
          "data": {
            "text/plain": [
              "1"
            ]
          },
          "metadata": {},
          "execution_count": 10
        }
      ]
    },
    {
      "cell_type": "code",
      "source": [
        "vector.shape"
      ],
      "metadata": {
        "colab": {
          "base_uri": "https://localhost:8080/"
        },
        "id": "wHTsyXyU-Ywp",
        "outputId": "f3b1d6db-7e88-4b24-9965-6d1e7048a8af"
      },
      "execution_count": null,
      "outputs": [
        {
          "output_type": "execute_result",
          "data": {
            "text/plain": [
              "torch.Size([2])"
            ]
          },
          "metadata": {},
          "execution_count": 11
        }
      ]
    },
    {
      "cell_type": "code",
      "source": [
        "## Matrix\n",
        "matrix = torch.tensor([[7,8],\n",
        "                       [6,7]])\n",
        "matrix"
      ],
      "metadata": {
        "colab": {
          "base_uri": "https://localhost:8080/"
        },
        "id": "IyMLgJDR-hCI",
        "outputId": "109ceb5d-7d5b-4548-8879-8efba4b765e0"
      },
      "execution_count": null,
      "outputs": [
        {
          "output_type": "execute_result",
          "data": {
            "text/plain": [
              "tensor([[7, 8],\n",
              "        [6, 7]])"
            ]
          },
          "metadata": {},
          "execution_count": 12
        }
      ]
    },
    {
      "cell_type": "code",
      "source": [
        "matrix.shape"
      ],
      "metadata": {
        "colab": {
          "base_uri": "https://localhost:8080/"
        },
        "id": "N2ai1S0I-r1Y",
        "outputId": "cb003b2d-9e38-4afb-d802-946eea2f5d6a"
      },
      "execution_count": null,
      "outputs": [
        {
          "output_type": "execute_result",
          "data": {
            "text/plain": [
              "torch.Size([2, 2])"
            ]
          },
          "metadata": {},
          "execution_count": 14
        }
      ]
    },
    {
      "cell_type": "code",
      "source": [
        "matrix.ndim"
      ],
      "metadata": {
        "colab": {
          "base_uri": "https://localhost:8080/"
        },
        "id": "uFURJ0PP-wOK",
        "outputId": "f18fb499-e53e-44de-cb93-749666cbd9ad"
      },
      "execution_count": null,
      "outputs": [
        {
          "output_type": "execute_result",
          "data": {
            "text/plain": [
              "2"
            ]
          },
          "metadata": {},
          "execution_count": 15
        }
      ]
    },
    {
      "cell_type": "code",
      "source": [
        "matrix[1]"
      ],
      "metadata": {
        "colab": {
          "base_uri": "https://localhost:8080/"
        },
        "id": "S_rE2cfm_AAs",
        "outputId": "89f7d8d9-c849-418c-e1b9-d09b4abd8c1c"
      },
      "execution_count": null,
      "outputs": [
        {
          "output_type": "execute_result",
          "data": {
            "text/plain": [
              "tensor([6, 7])"
            ]
          },
          "metadata": {},
          "execution_count": 16
        }
      ]
    },
    {
      "cell_type": "code",
      "source": [
        "# Tensor\n",
        "tensor = torch.tensor([[[3,2,5],\n",
        "                        [5,6,8],\n",
        "                        [2,4,5],\n",
        "                       ]])\n",
        "tensor.ndim"
      ],
      "metadata": {
        "colab": {
          "base_uri": "https://localhost:8080/"
        },
        "id": "GhoRbfdB_Cg3",
        "outputId": "b91b2d10-233a-499c-f866-5288f06bca8e"
      },
      "execution_count": null,
      "outputs": [
        {
          "output_type": "execute_result",
          "data": {
            "text/plain": [
              "3"
            ]
          },
          "metadata": {},
          "execution_count": 8
        }
      ]
    },
    {
      "cell_type": "code",
      "source": [
        "# testig the homogenous datatypes\n",
        "homo  = torch.tensor([\"y\",\"g\"])\n",
        "homo"
      ],
      "metadata": {
        "colab": {
          "base_uri": "https://localhost:8080/",
          "height": 210
        },
        "id": "-GSe-q78_d7I",
        "outputId": "6b6f8b93-cedd-48a8-8f71-0f84556152e7"
      },
      "execution_count": null,
      "outputs": [
        {
          "output_type": "error",
          "ename": "ValueError",
          "evalue": "too many dimensions 'str'",
          "traceback": [
            "\u001b[0;31m---------------------------------------------------------------------------\u001b[0m",
            "\u001b[0;31mValueError\u001b[0m                                Traceback (most recent call last)",
            "\u001b[0;32m<ipython-input-27-63dd551ceef4>\u001b[0m in \u001b[0;36m<cell line: 2>\u001b[0;34m()\u001b[0m\n\u001b[1;32m      1\u001b[0m \u001b[0;31m# testig the homogenous datatypes\u001b[0m\u001b[0;34m\u001b[0m\u001b[0;34m\u001b[0m\u001b[0m\n\u001b[0;32m----> 2\u001b[0;31m \u001b[0mhomo\u001b[0m  \u001b[0;34m=\u001b[0m \u001b[0mtorch\u001b[0m\u001b[0;34m.\u001b[0m\u001b[0mtensor\u001b[0m\u001b[0;34m(\u001b[0m\u001b[0;34m[\u001b[0m\u001b[0;34m\"y\"\u001b[0m\u001b[0;34m,\u001b[0m\u001b[0;34m\"g\"\u001b[0m\u001b[0;34m]\u001b[0m\u001b[0;34m)\u001b[0m\u001b[0;34m\u001b[0m\u001b[0;34m\u001b[0m\u001b[0m\n\u001b[0m\u001b[1;32m      3\u001b[0m \u001b[0mhomo\u001b[0m\u001b[0;34m\u001b[0m\u001b[0;34m\u001b[0m\u001b[0m\n",
            "\u001b[0;31mValueError\u001b[0m: too many dimensions 'str'"
          ]
        }
      ]
    },
    {
      "cell_type": "code",
      "source": [
        "tensor.ndim"
      ],
      "metadata": {
        "colab": {
          "base_uri": "https://localhost:8080/"
        },
        "id": "KPYr-7l8_2G6",
        "outputId": "db69320a-634e-447f-9886-eb834b920dd7"
      },
      "execution_count": null,
      "outputs": [
        {
          "output_type": "execute_result",
          "data": {
            "text/plain": [
              "3"
            ]
          },
          "metadata": {},
          "execution_count": 29
        }
      ]
    },
    {
      "cell_type": "code",
      "source": [
        "tensor.shape"
      ],
      "metadata": {
        "colab": {
          "base_uri": "https://localhost:8080/"
        },
        "id": "yA9L7J6PAG7g",
        "outputId": "af528fec-6666-4520-c391-ce4a10fb7030"
      },
      "execution_count": null,
      "outputs": [
        {
          "output_type": "execute_result",
          "data": {
            "text/plain": [
              "torch.Size([1, 3, 3])"
            ]
          },
          "metadata": {},
          "execution_count": 30
        }
      ]
    },
    {
      "cell_type": "code",
      "source": [
        "tensor[0][2]"
      ],
      "metadata": {
        "colab": {
          "base_uri": "https://localhost:8080/"
        },
        "id": "L6R4LF_AARas",
        "outputId": "38dd3640-3b3a-49ae-ec1b-956b1884405b"
      },
      "execution_count": null,
      "outputs": [
        {
          "output_type": "execute_result",
          "data": {
            "text/plain": [
              "tensor([2, 4, 5])"
            ]
          },
          "metadata": {},
          "execution_count": 33
        }
      ]
    },
    {
      "cell_type": "code",
      "source": [
        "a = torch.tensor[[4]]"
      ],
      "metadata": {
        "id": "AVOcW9KhAdpC",
        "colab": {
          "base_uri": "https://localhost:8080/",
          "height": 175
        },
        "outputId": "33164c4c-b5c3-40fb-cec0-9a5eed266d12"
      },
      "execution_count": null,
      "outputs": [
        {
          "output_type": "error",
          "ename": "TypeError",
          "evalue": "'builtin_function_or_method' object is not subscriptable",
          "traceback": [
            "\u001b[0;31m---------------------------------------------------------------------------\u001b[0m",
            "\u001b[0;31mTypeError\u001b[0m                                 Traceback (most recent call last)",
            "\u001b[0;32m<ipython-input-9-35ce7a05383c>\u001b[0m in \u001b[0;36m<cell line: 1>\u001b[0;34m()\u001b[0m\n\u001b[0;32m----> 1\u001b[0;31m \u001b[0ma\u001b[0m \u001b[0;34m=\u001b[0m \u001b[0mtorch\u001b[0m\u001b[0;34m.\u001b[0m\u001b[0mtensor\u001b[0m\u001b[0;34m[\u001b[0m\u001b[0;34m[\u001b[0m\u001b[0;36m4\u001b[0m\u001b[0;34m]\u001b[0m\u001b[0;34m]\u001b[0m\u001b[0;34m\u001b[0m\u001b[0;34m\u001b[0m\u001b[0m\n\u001b[0m",
            "\u001b[0;31mTypeError\u001b[0m: 'builtin_function_or_method' object is not subscriptable"
          ]
        }
      ]
    },
    {
      "cell_type": "code",
      "source": [
        "tensor = torch.tensor([[4\n",
        "                       ]])\n",
        "tensor.ndim"
      ],
      "metadata": {
        "colab": {
          "base_uri": "https://localhost:8080/"
        },
        "id": "lFo41ph4TjDi",
        "outputId": "70ed2f02-7452-4e9c-fd70-2c5ef1701366"
      },
      "execution_count": null,
      "outputs": [
        {
          "output_type": "execute_result",
          "data": {
            "text/plain": [
              "2"
            ]
          },
          "metadata": {},
          "execution_count": 10
        }
      ]
    },
    {
      "cell_type": "code",
      "source": [
        "tensor =  torch.tensor([[[[[[[[5]]]]]]]])"
      ],
      "metadata": {
        "id": "BFx20yUkUMam"
      },
      "execution_count": null,
      "outputs": []
    },
    {
      "cell_type": "markdown",
      "source": [
        "\n",
        "### Random tensors\n",
        "why rangom tensors?\n",
        "Random tensor are important becuase the way many neural networks learn is that they start with tensors full of random numbers and then adjust random number to bette represent the dataclass_transform\n",
        "`Start with random numbers -> look at data -> update random number -> look at hte data -> pdate random number"
      ],
      "metadata": {
        "id": "Wfro1WzdUX_T"
      }
    },
    {
      "cell_type": "code",
      "source": [
        "# Create a random tensor of shape(3,4)\n",
        "random_tensor = torch.rand(1,3,4)\n",
        "random_tensor"
      ],
      "metadata": {
        "colab": {
          "base_uri": "https://localhost:8080/"
        },
        "id": "lTj8SPM_VBFo",
        "outputId": "5427faa8-8d1e-4092-f6c6-6871a2e5f42d"
      },
      "execution_count": null,
      "outputs": [
        {
          "output_type": "execute_result",
          "data": {
            "text/plain": [
              "tensor([[[0.7522, 0.3914, 0.1993, 0.8884],\n",
              "         [0.3960, 0.6880, 0.5931, 0.5025],\n",
              "         [0.3449, 0.5436, 0.6980, 0.7182]]])"
            ]
          },
          "metadata": {},
          "execution_count": 14
        }
      ]
    },
    {
      "cell_type": "code",
      "source": [
        "random_tensor.ndim"
      ],
      "metadata": {
        "colab": {
          "base_uri": "https://localhost:8080/"
        },
        "id": "pI89B413VSzc",
        "outputId": "14ca720d-bf01-41ef-96a5-c000e90f24dc"
      },
      "execution_count": null,
      "outputs": [
        {
          "output_type": "execute_result",
          "data": {
            "text/plain": [
              "3"
            ]
          },
          "metadata": {},
          "execution_count": 15
        }
      ]
    },
    {
      "cell_type": "code",
      "source": [
        "# Create a random tensor of shape(3,4)\n",
        "random_tensor = torch.rand(10,10,10)\n",
        "random_tensor"
      ],
      "metadata": {
        "colab": {
          "base_uri": "https://localhost:8080/"
        },
        "id": "cN2Bnt5kVSwM",
        "outputId": "deb48daa-aee5-4fd3-faa2-7192f5dcda8f"
      },
      "execution_count": null,
      "outputs": [
        {
          "output_type": "execute_result",
          "data": {
            "text/plain": [
              "tensor([[[3.3534e-01, 6.0064e-01, 4.2634e-01, 5.3164e-01, 8.4548e-01,\n",
              "          7.1656e-01, 1.3037e-01, 4.8036e-01, 5.1009e-01, 1.1230e-01],\n",
              "         [9.7683e-01, 9.6131e-01, 6.3000e-01, 7.5590e-01, 2.8986e-01,\n",
              "          5.9904e-01, 6.4150e-01, 5.0701e-01, 3.1124e-01, 9.7206e-01],\n",
              "         [3.5782e-01, 7.2534e-01, 8.6973e-01, 8.9044e-02, 9.0081e-01,\n",
              "          3.1419e-01, 7.4670e-01, 3.7101e-01, 3.7558e-01, 4.6334e-01],\n",
              "         [2.1567e-01, 1.1586e-01, 2.5694e-01, 3.6182e-02, 1.5456e-02,\n",
              "          3.5527e-01, 1.5535e-01, 3.6676e-01, 4.8144e-01, 9.3099e-02],\n",
              "         [6.6741e-01, 5.6337e-01, 6.2832e-01, 5.0539e-02, 4.5230e-01,\n",
              "          3.8614e-01, 4.8461e-02, 7.8102e-01, 2.0445e-01, 7.5708e-01],\n",
              "         [6.4701e-01, 9.2691e-01, 9.3196e-01, 4.9956e-01, 8.8981e-02,\n",
              "          6.1847e-01, 3.6465e-01, 3.0799e-01, 8.5999e-01, 8.1741e-01],\n",
              "         [6.3874e-01, 4.2950e-01, 5.1022e-01, 6.5372e-01, 5.2721e-01,\n",
              "          4.7783e-01, 3.0456e-01, 7.2055e-01, 5.7532e-01, 4.4227e-01],\n",
              "         [3.7060e-01, 4.5010e-01, 1.4941e-01, 7.0745e-01, 7.0592e-01,\n",
              "          5.4907e-01, 4.3729e-01, 1.9563e-01, 9.5087e-01, 2.0086e-02],\n",
              "         [3.9910e-01, 4.2327e-01, 3.5559e-01, 5.5938e-03, 1.6397e-01,\n",
              "          1.5717e-01, 2.5516e-01, 2.2436e-01, 1.4445e-01, 3.0458e-01],\n",
              "         [6.4542e-01, 8.3379e-01, 9.3220e-01, 1.7158e-01, 9.4935e-01,\n",
              "          9.0531e-01, 8.1380e-01, 5.4036e-01, 8.8661e-02, 1.3697e-02]],\n",
              "\n",
              "        [[6.7153e-01, 7.7217e-02, 2.0966e-01, 7.4555e-01, 1.2970e-02,\n",
              "          2.6770e-01, 5.3901e-01, 8.5328e-01, 4.4845e-01, 1.6955e-01],\n",
              "         [7.1901e-01, 4.8076e-01, 7.9257e-03, 4.8474e-01, 7.6910e-01,\n",
              "          6.1476e-01, 3.9090e-02, 3.7246e-01, 5.3597e-01, 3.1756e-01],\n",
              "         [8.6587e-01, 4.9517e-01, 8.4408e-01, 1.3626e-01, 6.8170e-01,\n",
              "          3.3300e-01, 3.8566e-01, 2.3180e-01, 5.0015e-01, 4.8953e-01],\n",
              "         [1.7897e-01, 1.2875e-01, 5.7078e-02, 2.9076e-01, 9.1875e-01,\n",
              "          8.0229e-01, 8.4997e-01, 3.2881e-01, 4.3102e-01, 7.9134e-01],\n",
              "         [8.4049e-01, 7.8779e-01, 2.4268e-01, 2.8783e-01, 1.9957e-01,\n",
              "          6.3087e-01, 7.3454e-01, 6.8319e-01, 5.8396e-01, 1.3994e-01],\n",
              "         [1.0120e-01, 4.1197e-01, 5.8294e-01, 4.1336e-01, 9.4810e-01,\n",
              "          9.1139e-01, 1.6069e-01, 2.6682e-01, 8.4815e-01, 4.4373e-01],\n",
              "         [7.6483e-01, 2.1055e-02, 6.0871e-01, 3.1156e-01, 9.8635e-01,\n",
              "          5.8769e-01, 6.6006e-01, 4.2100e-01, 1.8679e-01, 1.2333e-01],\n",
              "         [1.7599e-02, 1.1880e-01, 9.8816e-01, 8.8211e-01, 9.2849e-01,\n",
              "          1.4491e-01, 3.9358e-01, 4.6312e-01, 5.6853e-01, 3.2378e-01],\n",
              "         [5.6005e-01, 6.2953e-01, 6.6097e-01, 6.0749e-01, 1.6356e-01,\n",
              "          7.6222e-02, 2.0467e-01, 4.9757e-01, 6.9359e-01, 6.5844e-01],\n",
              "         [4.6205e-01, 2.4647e-01, 7.3828e-01, 5.2168e-01, 7.7356e-01,\n",
              "          4.7277e-01, 1.5758e-01, 3.3321e-01, 6.7493e-01, 3.3024e-01]],\n",
              "\n",
              "        [[5.4961e-01, 3.1521e-01, 7.4387e-05, 2.7644e-01, 2.2535e-01,\n",
              "          8.9994e-02, 5.9016e-01, 6.3416e-01, 7.4852e-01, 2.5870e-02],\n",
              "         [3.3039e-01, 3.2642e-02, 3.4452e-01, 8.4928e-01, 5.4879e-01,\n",
              "          6.9634e-01, 4.9233e-01, 5.7895e-01, 3.5772e-01, 5.9910e-01],\n",
              "         [7.7590e-01, 2.5346e-01, 4.2129e-01, 8.5950e-01, 2.1711e-01,\n",
              "          1.5969e-01, 4.6904e-01, 6.6239e-01, 3.8744e-01, 9.9894e-01],\n",
              "         [3.5614e-01, 9.7513e-01, 6.8699e-01, 9.5454e-01, 4.1844e-01,\n",
              "          5.5792e-01, 7.4735e-01, 3.9538e-01, 5.1832e-01, 9.1559e-01],\n",
              "         [8.9238e-01, 4.2884e-02, 7.9799e-01, 8.7020e-01, 6.0167e-01,\n",
              "          3.9603e-01, 6.1361e-01, 8.3421e-02, 6.6422e-01, 3.9214e-01],\n",
              "         [4.9987e-01, 2.6196e-01, 7.7253e-01, 6.4202e-01, 9.4456e-02,\n",
              "          7.8160e-01, 5.9749e-01, 9.6923e-01, 1.0859e-01, 4.3119e-02],\n",
              "         [6.1511e-01, 5.5319e-02, 7.1463e-01, 2.0859e-01, 6.9530e-02,\n",
              "          6.4887e-01, 9.5645e-01, 9.4096e-01, 9.7812e-01, 2.6957e-01],\n",
              "         [8.0122e-01, 8.6528e-01, 3.2717e-01, 1.9390e-01, 1.6909e-01,\n",
              "          9.8910e-01, 4.8243e-01, 4.0849e-01, 4.1098e-01, 6.3681e-01],\n",
              "         [5.6608e-01, 8.9288e-01, 9.2676e-01, 4.8824e-01, 9.7338e-01,\n",
              "          7.2438e-01, 9.2352e-01, 7.5676e-01, 4.1291e-01, 4.6414e-01],\n",
              "         [2.1053e-01, 1.5269e-01, 1.5895e-01, 6.5088e-01, 2.1046e-02,\n",
              "          9.4991e-01, 3.2353e-01, 3.4669e-01, 2.2357e-01, 9.5695e-02]],\n",
              "\n",
              "        [[1.2665e-01, 7.2739e-02, 4.1396e-01, 1.5398e-01, 7.2811e-01,\n",
              "          8.8011e-01, 8.0322e-01, 4.5289e-01, 1.6681e-01, 5.2743e-01],\n",
              "         [5.9979e-01, 1.9212e-01, 7.8258e-01, 6.1414e-01, 1.9145e-01,\n",
              "          6.0300e-01, 2.8473e-01, 3.6579e-01, 3.9060e-02, 7.4119e-01],\n",
              "         [3.5115e-01, 5.1952e-02, 3.8840e-01, 3.3818e-01, 9.7111e-01,\n",
              "          5.6371e-01, 1.1979e-01, 9.6316e-01, 4.7606e-01, 1.3109e-01],\n",
              "         [2.8847e-01, 1.1299e-01, 1.3546e-01, 7.0946e-01, 3.7444e-01,\n",
              "          7.0426e-01, 3.0732e-01, 8.9997e-01, 5.9685e-01, 6.4612e-01],\n",
              "         [5.2419e-01, 3.7929e-01, 5.4945e-01, 2.2833e-01, 3.2371e-01,\n",
              "          4.4332e-01, 3.2301e-01, 2.0519e-02, 7.4122e-01, 9.3035e-01],\n",
              "         [8.5615e-01, 8.8404e-01, 2.0543e-01, 9.1781e-01, 5.2525e-01,\n",
              "          2.8887e-01, 9.2086e-01, 1.6524e-01, 9.1882e-01, 7.7687e-01],\n",
              "         [4.1030e-01, 6.5226e-01, 8.2908e-01, 7.8837e-01, 5.1484e-01,\n",
              "          4.3284e-01, 1.6225e-01, 4.0990e-01, 4.6446e-01, 5.2981e-01],\n",
              "         [2.8212e-02, 6.4952e-01, 4.4204e-01, 5.6312e-01, 1.0513e-01,\n",
              "          3.9703e-01, 6.6148e-01, 5.7734e-01, 2.7674e-01, 2.8810e-01],\n",
              "         [3.9444e-01, 2.3701e-01, 9.4533e-01, 6.8322e-01, 7.7373e-01,\n",
              "          7.4706e-01, 1.6385e-01, 3.8930e-02, 9.8281e-01, 6.4150e-01],\n",
              "         [8.7733e-01, 7.5446e-01, 6.4029e-01, 4.3029e-01, 6.9189e-01,\n",
              "          2.9921e-01, 7.3850e-02, 7.3446e-02, 4.1312e-01, 7.6674e-01]],\n",
              "\n",
              "        [[3.6547e-01, 6.0816e-01, 8.1935e-01, 2.5951e-01, 9.1101e-01,\n",
              "          4.8786e-01, 4.5997e-01, 7.7271e-01, 8.7570e-01, 4.5671e-01],\n",
              "         [9.4578e-01, 2.0765e-01, 6.8282e-01, 3.6543e-01, 5.8754e-01,\n",
              "          8.3550e-01, 4.6608e-02, 1.0254e-02, 2.4778e-01, 8.2457e-02],\n",
              "         [2.9639e-01, 3.1678e-01, 4.4583e-01, 3.0493e-02, 1.8309e-01,\n",
              "          4.3417e-02, 9.8514e-02, 4.4324e-01, 8.8375e-01, 7.3630e-01],\n",
              "         [4.1777e-01, 6.7336e-01, 4.2612e-01, 3.0463e-01, 1.4023e-01,\n",
              "          3.3184e-02, 7.1396e-01, 9.1832e-01, 2.9630e-02, 4.1003e-01],\n",
              "         [8.2483e-01, 8.7849e-01, 2.2024e-01, 7.2762e-01, 8.1977e-01,\n",
              "          6.3007e-01, 3.6392e-01, 2.0765e-01, 9.5132e-01, 6.1310e-01],\n",
              "         [5.3868e-01, 1.7941e-01, 8.6769e-01, 3.7809e-01, 4.8302e-01,\n",
              "          5.3264e-01, 7.0865e-01, 7.9819e-01, 3.0096e-01, 3.8703e-02],\n",
              "         [2.6391e-01, 6.1263e-01, 1.6936e-01, 3.1850e-01, 6.9873e-01,\n",
              "          7.4200e-01, 7.3258e-01, 8.3840e-01, 1.6086e-01, 3.3795e-01],\n",
              "         [4.6653e-01, 4.4807e-01, 3.2788e-01, 6.8192e-02, 8.2799e-01,\n",
              "          4.8650e-02, 2.6321e-01, 1.5948e-01, 2.7777e-01, 7.8749e-01],\n",
              "         [3.8340e-01, 9.9254e-01, 8.6934e-01, 9.5281e-01, 4.0734e-01,\n",
              "          8.6452e-01, 6.2931e-01, 9.5065e-01, 5.9742e-01, 4.2852e-01],\n",
              "         [3.5383e-01, 6.3980e-01, 1.1239e-01, 1.2935e-01, 6.9906e-01,\n",
              "          7.0287e-01, 1.2361e-01, 7.2308e-01, 6.9610e-01, 6.5345e-01]],\n",
              "\n",
              "        [[5.9594e-01, 3.0685e-01, 3.7243e-01, 5.4920e-01, 2.8915e-01,\n",
              "          7.9433e-01, 5.9816e-01, 2.3470e-02, 1.4487e-01, 9.9529e-01],\n",
              "         [4.7189e-01, 4.7822e-01, 1.7216e-01, 6.4483e-01, 8.2934e-01,\n",
              "          1.2726e-01, 2.9520e-01, 8.1617e-01, 9.8189e-01, 9.4400e-01],\n",
              "         [7.8436e-01, 9.3136e-01, 2.8491e-01, 7.1565e-01, 7.0230e-01,\n",
              "          4.5650e-01, 4.3121e-01, 6.0979e-01, 9.5124e-01, 1.9071e-01],\n",
              "         [9.8170e-01, 3.8973e-01, 3.6254e-02, 7.3277e-02, 9.4211e-01,\n",
              "          1.1707e-01, 1.5410e-01, 4.3828e-01, 3.3136e-01, 8.1929e-01],\n",
              "         [5.2904e-01, 4.3260e-01, 8.9783e-02, 6.5971e-01, 1.9436e-01,\n",
              "          3.8843e-01, 6.9945e-01, 1.8598e-02, 9.7423e-01, 5.5987e-02],\n",
              "         [9.6720e-01, 5.6129e-01, 7.6681e-02, 8.6838e-01, 6.3630e-01,\n",
              "          1.8232e-01, 4.6990e-01, 7.5527e-01, 1.0574e-01, 9.6051e-01],\n",
              "         [4.4462e-01, 8.5996e-01, 9.9124e-01, 4.8919e-01, 6.8633e-01,\n",
              "          6.1691e-01, 7.9192e-01, 6.5395e-01, 3.2643e-01, 2.5222e-01],\n",
              "         [2.8235e-01, 5.6531e-01, 5.8535e-01, 7.3734e-01, 8.8150e-01,\n",
              "          5.6315e-01, 4.6904e-01, 4.9678e-01, 8.5344e-01, 2.5319e-01],\n",
              "         [5.7947e-01, 6.1737e-01, 7.9511e-01, 2.7662e-01, 4.2517e-01,\n",
              "          3.0158e-01, 1.2063e-01, 2.9774e-01, 5.6111e-01, 8.2901e-01],\n",
              "         [3.7817e-01, 4.8207e-02, 2.1042e-01, 7.6021e-02, 3.3045e-01,\n",
              "          5.4211e-01, 6.1199e-01, 6.8283e-01, 1.5940e-01, 6.6169e-01]],\n",
              "\n",
              "        [[8.6450e-01, 9.1568e-01, 5.0103e-01, 9.6896e-01, 8.2389e-01,\n",
              "          5.8969e-01, 9.5324e-01, 5.0695e-01, 3.4487e-01, 3.3048e-01],\n",
              "         [3.4499e-01, 2.1198e-01, 4.9566e-01, 5.9411e-01, 8.8217e-01,\n",
              "          9.2150e-01, 3.7888e-01, 6.0226e-01, 6.4211e-01, 2.1025e-01],\n",
              "         [9.4723e-01, 1.0268e-01, 5.2826e-01, 1.4449e-01, 2.0208e-01,\n",
              "          2.6763e-01, 4.6300e-02, 9.0616e-01, 3.6419e-01, 8.4887e-01],\n",
              "         [6.8597e-01, 4.7740e-01, 3.8205e-01, 7.0666e-01, 9.5010e-01,\n",
              "          2.3000e-01, 5.9710e-01, 3.8334e-01, 4.2527e-01, 8.0695e-01],\n",
              "         [2.6029e-01, 9.8007e-01, 6.6438e-02, 4.0694e-01, 9.5095e-01,\n",
              "          8.5226e-01, 1.7415e-01, 3.3817e-02, 6.8413e-01, 1.2343e-01],\n",
              "         [8.0370e-01, 5.1001e-02, 3.9609e-01, 6.9468e-01, 5.5586e-01,\n",
              "          4.5598e-01, 3.3913e-01, 7.0620e-01, 8.5810e-02, 3.1453e-01],\n",
              "         [6.9733e-01, 8.1424e-01, 5.0919e-01, 9.2452e-01, 6.1391e-01,\n",
              "          4.4555e-01, 5.6822e-01, 5.0455e-01, 3.7522e-01, 9.3529e-01],\n",
              "         [9.0724e-01, 8.9735e-01, 1.6911e-01, 3.0167e-01, 1.0709e-01,\n",
              "          8.4353e-02, 7.1957e-03, 8.8301e-01, 4.6894e-01, 2.8585e-01],\n",
              "         [2.9821e-01, 1.0759e-01, 9.1574e-01, 6.2440e-01, 2.2382e-01,\n",
              "          6.9114e-01, 9.5171e-01, 6.5661e-01, 8.7837e-01, 9.7283e-01],\n",
              "         [2.6152e-01, 4.3022e-02, 3.0604e-01, 5.6944e-02, 6.7753e-01,\n",
              "          7.4098e-01, 4.2053e-01, 1.2690e-01, 1.4911e-03, 7.1632e-01]],\n",
              "\n",
              "        [[2.0645e-01, 1.5277e-01, 2.6599e-01, 3.0169e-01, 3.4957e-01,\n",
              "          7.3520e-01, 4.0326e-01, 2.9876e-01, 5.8921e-01, 9.5962e-01],\n",
              "         [2.8614e-01, 8.2386e-01, 6.1410e-01, 2.5689e-01, 4.7159e-01,\n",
              "          3.3231e-01, 5.1057e-01, 9.5918e-01, 3.9295e-01, 4.1071e-01],\n",
              "         [2.0366e-01, 6.2288e-01, 6.0300e-01, 7.1599e-01, 3.8803e-01,\n",
              "          2.3954e-01, 2.0050e-01, 5.4602e-01, 2.1614e-01, 3.7563e-01],\n",
              "         [8.9372e-02, 2.7686e-01, 3.4682e-01, 1.0165e-02, 4.1191e-01,\n",
              "          3.1939e-01, 2.3699e-01, 3.9331e-01, 7.1745e-01, 9.8749e-01],\n",
              "         [3.5095e-01, 3.1157e-01, 8.2424e-01, 3.2328e-01, 4.4953e-01,\n",
              "          1.1383e-01, 6.7166e-01, 1.3324e-01, 1.4169e-01, 1.3840e-01],\n",
              "         [9.5793e-01, 8.1431e-01, 1.7679e-02, 7.1837e-01, 1.8767e-01,\n",
              "          7.8577e-01, 5.1492e-01, 6.7384e-01, 9.5958e-01, 5.2958e-01],\n",
              "         [2.5360e-01, 1.0460e-01, 2.0339e-01, 1.2507e-01, 7.5841e-01,\n",
              "          6.6134e-01, 4.1208e-01, 7.9439e-01, 1.0722e-01, 1.4286e-01],\n",
              "         [2.2653e-01, 4.3888e-01, 2.0028e-01, 8.1556e-02, 6.0491e-01,\n",
              "          9.1903e-01, 6.4435e-01, 8.9754e-01, 2.2199e-01, 9.6913e-01],\n",
              "         [7.8957e-01, 6.1734e-01, 9.5163e-01, 5.3135e-03, 9.8611e-01,\n",
              "          9.6575e-01, 1.3493e-01, 7.0868e-01, 3.2414e-01, 2.6479e-01],\n",
              "         [1.9800e-01, 1.1583e-01, 7.5502e-01, 2.6762e-01, 6.6221e-01,\n",
              "          6.5277e-01, 6.1340e-01, 1.4621e-01, 6.3695e-02, 4.2729e-01]],\n",
              "\n",
              "        [[5.5094e-02, 9.2635e-01, 7.0427e-01, 3.5632e-01, 2.9571e-01,\n",
              "          8.8956e-01, 7.9796e-01, 7.9602e-01, 9.9491e-01, 8.9889e-01],\n",
              "         [3.9832e-01, 8.4223e-01, 3.1381e-01, 1.3579e-02, 7.2015e-01,\n",
              "          3.2684e-01, 1.3074e-02, 6.5938e-01, 3.7342e-01, 8.5053e-01],\n",
              "         [7.4645e-02, 4.8027e-01, 1.7301e-01, 9.1942e-01, 9.1473e-01,\n",
              "          7.3936e-01, 3.5752e-01, 3.8831e-01, 7.9329e-01, 1.9506e-01],\n",
              "         [7.3515e-01, 7.0596e-01, 9.4691e-01, 2.2857e-01, 2.8156e-01,\n",
              "          3.3618e-01, 7.0866e-01, 6.6461e-01, 6.2409e-02, 4.9111e-01],\n",
              "         [8.3113e-01, 2.3000e-01, 9.4415e-01, 6.1977e-01, 3.4684e-01,\n",
              "          5.2417e-02, 2.3650e-01, 6.8472e-01, 7.6734e-01, 5.4342e-01],\n",
              "         [5.7257e-01, 4.8108e-01, 7.4995e-01, 9.5971e-01, 2.3027e-01,\n",
              "          2.9937e-01, 2.2340e-01, 1.9330e-01, 7.4694e-01, 3.8831e-01],\n",
              "         [1.1834e-01, 8.8436e-01, 5.0126e-01, 7.3144e-01, 6.2539e-01,\n",
              "          4.5939e-01, 5.6051e-01, 1.0185e-01, 9.5977e-01, 5.2851e-01],\n",
              "         [6.8554e-01, 8.1834e-01, 7.8690e-01, 8.1956e-01, 3.2023e-03,\n",
              "          9.0283e-01, 8.6057e-02, 6.5302e-01, 1.8917e-02, 5.4910e-01],\n",
              "         [7.4400e-01, 9.8938e-01, 9.5399e-01, 6.1300e-01, 2.4573e-01,\n",
              "          7.5938e-01, 8.6699e-01, 8.0972e-01, 3.6085e-01, 3.5955e-01],\n",
              "         [1.3967e-01, 6.6072e-02, 1.8766e-01, 7.3761e-01, 5.9872e-01,\n",
              "          3.9772e-01, 8.9952e-01, 6.4862e-01, 7.4964e-01, 5.7495e-01]],\n",
              "\n",
              "        [[9.4940e-01, 9.6773e-01, 9.7081e-01, 6.2993e-01, 4.5694e-01,\n",
              "          7.9873e-01, 9.7672e-01, 7.2027e-01, 9.9709e-01, 9.5885e-01],\n",
              "         [2.0138e-01, 2.2492e-01, 4.0777e-01, 9.1470e-01, 9.0961e-01,\n",
              "          4.3352e-01, 5.3722e-01, 6.6884e-01, 1.3612e-01, 4.7860e-01],\n",
              "         [8.8923e-01, 8.8668e-01, 6.2332e-01, 7.8178e-01, 4.9109e-01,\n",
              "          1.7271e-01, 3.9097e-01, 4.2284e-01, 7.7248e-02, 9.2844e-02],\n",
              "         [9.8814e-01, 4.9098e-01, 3.1728e-01, 1.7081e-01, 5.6220e-01,\n",
              "          7.3859e-01, 7.5026e-01, 6.7196e-01, 8.5649e-01, 4.1812e-01],\n",
              "         [2.6435e-01, 3.5843e-02, 2.4195e-01, 1.1132e-01, 4.5117e-01,\n",
              "          7.9407e-01, 6.8667e-01, 2.5610e-01, 1.6466e-01, 4.1212e-01],\n",
              "         [2.5247e-01, 9.2840e-01, 7.7873e-01, 3.5479e-01, 4.5526e-01,\n",
              "          2.5713e-01, 8.2799e-01, 4.0347e-02, 2.1980e-01, 4.1110e-01],\n",
              "         [6.9697e-01, 5.6023e-01, 9.1994e-01, 6.2032e-01, 6.5736e-01,\n",
              "          3.7231e-01, 1.9569e-01, 4.5668e-01, 8.3753e-01, 8.8309e-01],\n",
              "         [2.6527e-01, 1.0670e-01, 5.9734e-01, 1.9416e-01, 2.2490e-01,\n",
              "          2.8680e-01, 6.3562e-01, 8.2363e-01, 6.1656e-01, 6.7295e-01],\n",
              "         [6.0805e-01, 9.2747e-01, 9.5150e-02, 2.1759e-01, 7.2788e-01,\n",
              "          9.6092e-02, 8.2275e-01, 7.6896e-01, 9.3275e-02, 5.9767e-03],\n",
              "         [1.3337e-01, 3.2157e-03, 3.0425e-02, 7.6143e-01, 1.4592e-01,\n",
              "          6.2357e-01, 2.1739e-01, 3.5952e-01, 9.1002e-01, 3.6986e-01]]])"
            ]
          },
          "metadata": {},
          "execution_count": 16
        }
      ]
    },
    {
      "cell_type": "code",
      "source": [
        "random_tensor.ndim"
      ],
      "metadata": {
        "colab": {
          "base_uri": "https://localhost:8080/"
        },
        "id": "68isBgHlVStk",
        "outputId": "02084e80-a122-470b-db54-a3b3e6b0762a"
      },
      "execution_count": null,
      "outputs": [
        {
          "output_type": "execute_result",
          "data": {
            "text/plain": [
              "3"
            ]
          },
          "metadata": {},
          "execution_count": 17
        }
      ]
    },
    {
      "cell_type": "code",
      "source": [
        "# create a random tensor with similar shape to an image tensor\n",
        "random_image_size_tensor= torch.rand(size = (224, 224,3))# height, width, colr channel(R,G,B)\n",
        "random_image_size_tensor.shape,random_image_size_tensor.ndim"
      ],
      "metadata": {
        "colab": {
          "base_uri": "https://localhost:8080/"
        },
        "id": "kOeMn12-VSq7",
        "outputId": "af400d35-f5bb-41a4-8937-55bdb33ae87f"
      },
      "execution_count": null,
      "outputs": [
        {
          "output_type": "execute_result",
          "data": {
            "text/plain": [
              "(torch.Size([224, 224, 3]), 3)"
            ]
          },
          "metadata": {},
          "execution_count": 19
        }
      ]
    },
    {
      "cell_type": "markdown",
      "source": [
        "#### Zeros and ones"
      ],
      "metadata": {
        "id": "ebBVAlW2VSoY"
      }
    },
    {
      "cell_type": "code",
      "source": [
        "zeros = torch.zeros(size  =  (3,4))\n",
        "zeros"
      ],
      "metadata": {
        "colab": {
          "base_uri": "https://localhost:8080/"
        },
        "id": "sbXaGmg-W696",
        "outputId": "97394800-66de-4fec-925a-d5447d06732d"
      },
      "execution_count": null,
      "outputs": [
        {
          "output_type": "execute_result",
          "data": {
            "text/plain": [
              "tensor([[0., 0., 0., 0.],\n",
              "        [0., 0., 0., 0.],\n",
              "        [0., 0., 0., 0.]])"
            ]
          },
          "metadata": {},
          "execution_count": 22
        }
      ]
    },
    {
      "cell_type": "code",
      "source": [
        "zeros = torch.ones(size  =  (3,4,4,5))\n",
        "zeros"
      ],
      "metadata": {
        "id": "cYyHtQziXBHt"
      },
      "execution_count": null,
      "outputs": []
    },
    {
      "cell_type": "code",
      "source": [
        "zeros.ndim"
      ],
      "metadata": {
        "colab": {
          "base_uri": "https://localhost:8080/"
        },
        "id": "_8WDJHUiXKSE",
        "outputId": "7a51afb9-5b85-4d64-bf53-fb5596a1df68"
      },
      "execution_count": null,
      "outputs": [
        {
          "output_type": "execute_result",
          "data": {
            "text/plain": [
              "4"
            ]
          },
          "metadata": {},
          "execution_count": 26
        }
      ]
    },
    {
      "cell_type": "code",
      "source": [
        "zeros.shape"
      ],
      "metadata": {
        "colab": {
          "base_uri": "https://localhost:8080/"
        },
        "id": "rXuzMRaqXqru",
        "outputId": "5d11514e-6c7a-4433-8d17-ea7f08470756"
      },
      "execution_count": null,
      "outputs": [
        {
          "output_type": "execute_result",
          "data": {
            "text/plain": [
              "torch.Size([3, 4, 4, 5])"
            ]
          },
          "metadata": {},
          "execution_count": 27
        }
      ]
    },
    {
      "cell_type": "code",
      "source": [
        "zeros.shape"
      ],
      "metadata": {
        "colab": {
          "base_uri": "https://localhost:8080/"
        },
        "id": "oI6oFQ4iXvaS",
        "outputId": "5b718752-72b5-411b-8d5c-c7bd75198028"
      },
      "execution_count": null,
      "outputs": [
        {
          "output_type": "execute_result",
          "data": {
            "text/plain": [
              "torch.Size([3, 4, 4, 5])"
            ]
          },
          "metadata": {},
          "execution_count": 28
        }
      ]
    },
    {
      "cell_type": "code",
      "source": [
        "# using torch\n",
        "torch.arange(1,11)"
      ],
      "metadata": {
        "colab": {
          "base_uri": "https://localhost:8080/"
        },
        "id": "jVQ05H06XxMz",
        "outputId": "777904c6-4903-4c98-dd33-e7a0e807f2be"
      },
      "execution_count": null,
      "outputs": [
        {
          "output_type": "execute_result",
          "data": {
            "text/plain": [
              "tensor([ 1,  2,  3,  4,  5,  6,  7,  8,  9, 10])"
            ]
          },
          "metadata": {},
          "execution_count": 31
        }
      ]
    },
    {
      "cell_type": "code",
      "source": [
        "one_to_ten = torch.arange(start=1,end = 40, step= 3)"
      ],
      "metadata": {
        "id": "OFU0EYnYX84m"
      },
      "execution_count": null,
      "outputs": []
    },
    {
      "cell_type": "code",
      "source": [
        "ten_zeros = torch.zeros_like(input = one_to_ten)"
      ],
      "metadata": {
        "id": "Dz9RwpeFYT48"
      },
      "execution_count": null,
      "outputs": []
    },
    {
      "cell_type": "code",
      "source": [
        "ten_zeros\n",
        "zeros"
      ],
      "metadata": {
        "colab": {
          "base_uri": "https://localhost:8080/"
        },
        "id": "wTj2iBOBY0sd",
        "outputId": "ac7e650c-258d-48dd-a075-d9be550dfa60"
      },
      "execution_count": null,
      "outputs": [
        {
          "output_type": "execute_result",
          "data": {
            "text/plain": [
              "tensor([0, 0, 0, 0, 0, 0, 0, 0, 0, 0, 0, 0, 0])"
            ]
          },
          "metadata": {},
          "execution_count": 36
        }
      ]
    },
    {
      "cell_type": "code",
      "source": [
        "ten_zeros = torch.zeros_like(input = zeros)\n",
        "ten_zeros"
      ],
      "metadata": {
        "id": "xf_bueGKY9UO"
      },
      "execution_count": null,
      "outputs": []
    },
    {
      "cell_type": "markdown",
      "source": [
        "#### Tensor datatypes"
      ],
      "metadata": {
        "id": "sR186USPZG2-"
      }
    },
    {
      "cell_type": "markdown",
      "source": [
        "` Majro datatypes error in the 3 big errors we will run into with pythorch`\n",
        "* Tesor not right datatypes\n",
        "* Tensor not right shape\n",
        "* Tensors not right device"
      ],
      "metadata": {
        "id": "iVuBEGNSa0AO"
      }
    },
    {
      "cell_type": "code",
      "source": [
        "float_32_tensor  = torch.tensor([3.0,6.0,9.0],\n",
        "                                dtype = None,\n",
        "                                device = None,\n",
        "                                requires_grad = False)"
      ],
      "metadata": {
        "id": "7su8_UwiZPu9"
      },
      "execution_count": null,
      "outputs": []
    },
    {
      "cell_type": "code",
      "source": [
        "int_32_tensor = torch.tensor([3,6,9],\n",
        "                             dtype = torch.long)\n",
        "int_32_tensor"
      ],
      "metadata": {
        "colab": {
          "base_uri": "https://localhost:8080/"
        },
        "id": "bwnw3ROLdNl2",
        "outputId": "93d5c00d-056b-45f8-894f-861b85842862"
      },
      "execution_count": null,
      "outputs": [
        {
          "output_type": "execute_result",
          "data": {
            "text/plain": [
              "tensor([3, 6, 9])"
            ]
          },
          "metadata": {},
          "execution_count": 40
        }
      ]
    },
    {
      "cell_type": "code",
      "source": [
        "int_32_tensor*torch.tensor([3,6,9],\n",
        "                           dtype = torch.long)"
      ],
      "metadata": {
        "colab": {
          "base_uri": "https://localhost:8080/"
        },
        "id": "gAzcKSuWdaW-",
        "outputId": "549918d4-3702-46b9-a9d5-1f08407a9f96"
      },
      "execution_count": null,
      "outputs": [
        {
          "output_type": "execute_result",
          "data": {
            "text/plain": [
              "tensor([ 9, 36, 81])"
            ]
          },
          "metadata": {},
          "execution_count": 41
        }
      ]
    },
    {
      "cell_type": "markdown",
      "source": [
        "#### Getting informaiton from tensors\n",
        "1. Tensors not right datatypee --------tensor.dtype\n",
        "2. Tensors not right shapr----------- tensor.shape\n",
        "\n",
        "3. Tensors not in right device - ---------- - - -- tensor.device"
      ],
      "metadata": {
        "id": "JxjXap0odnQY"
      }
    },
    {
      "cell_type": "code",
      "source": [
        "print(f\"Datatypes of tensor: {int_32_tensor.dtype}\")\n",
        "print(f\"Shape of tensor: {int_32_tensor.shape}\")\n",
        "print(f\"Device of tensor: {int_32_tensor.device}\")"
      ],
      "metadata": {
        "colab": {
          "base_uri": "https://localhost:8080/"
        },
        "id": "4K8fn3RReGot",
        "outputId": "4e9c7586-caa5-4750-f05d-65bd25a82041"
      },
      "execution_count": null,
      "outputs": [
        {
          "output_type": "stream",
          "name": "stdout",
          "text": [
            "Datatypes of tensor: torch.int64\n",
            "Shape of tensor: torch.Size([3])\n",
            "Device of tensor: cpu\n"
          ]
        }
      ]
    },
    {
      "cell_type": "markdown",
      "source": [
        "#### Manipulating Tensors (tensor operations)\n",
        "Tensor operations include:\n",
        "* Addition\n",
        "* Substraction\n",
        "* Multiplicaiton (element-wise)\n",
        "* Division\n",
        "* Matrix multiplication"
      ],
      "metadata": {
        "id": "-pI1ls9OelNn"
      }
    },
    {
      "cell_type": "code",
      "source": [
        "# Create a tensor\n",
        "# addition\n",
        "tensor = torch.tensor([1,2,3])\n",
        "tensor, tensor+10"
      ],
      "metadata": {
        "colab": {
          "base_uri": "https://localhost:8080/"
        },
        "id": "4a_wmCFofWcX",
        "outputId": "be420534-970f-4c89-9b6c-255d7bbea572"
      },
      "execution_count": null,
      "outputs": [
        {
          "output_type": "execute_result",
          "data": {
            "text/plain": [
              "(tensor([1, 2, 3]), tensor([11, 12, 13]))"
            ]
          },
          "metadata": {},
          "execution_count": 47
        }
      ]
    },
    {
      "cell_type": "code",
      "source": [
        "# Multiplicaiton\n",
        "tensor = torch.tensor([1,2,3])\n",
        "tensor, tensor * 10"
      ],
      "metadata": {
        "colab": {
          "base_uri": "https://localhost:8080/"
        },
        "id": "cLON2vZcfhiv",
        "outputId": "30c6873d-9c67-4985-ec98-19852472cf5b"
      },
      "execution_count": null,
      "outputs": [
        {
          "output_type": "execute_result",
          "data": {
            "text/plain": [
              "(tensor([1, 2, 3]), tensor([10, 20, 30]))"
            ]
          },
          "metadata": {},
          "execution_count": 48
        }
      ]
    },
    {
      "cell_type": "code",
      "source": [
        "# Multiplicaiton\n",
        "\n",
        "tensor, tensor -1"
      ],
      "metadata": {
        "colab": {
          "base_uri": "https://localhost:8080/"
        },
        "id": "8iDneHTqfr60",
        "outputId": "3bc50519-c8c8-4500-f6e7-13a1a3f7b0e4"
      },
      "execution_count": null,
      "outputs": [
        {
          "output_type": "execute_result",
          "data": {
            "text/plain": [
              "(tensor([1, 2, 3]), tensor([0, 1, 2]))"
            ]
          },
          "metadata": {},
          "execution_count": 49
        }
      ]
    },
    {
      "cell_type": "code",
      "source": [
        "# Multiplicaiton\n",
        "\n",
        "tensor, tensor / 2"
      ],
      "metadata": {
        "colab": {
          "base_uri": "https://localhost:8080/"
        },
        "id": "QihBJToBf7uF",
        "outputId": "0c065f0a-8605-4e3f-b58c-20cce2664619"
      },
      "execution_count": null,
      "outputs": [
        {
          "output_type": "execute_result",
          "data": {
            "text/plain": [
              "(tensor([1, 2, 3]), tensor([0.5000, 1.0000, 1.5000]))"
            ]
          },
          "metadata": {},
          "execution_count": 50
        }
      ]
    },
    {
      "cell_type": "code",
      "source": [],
      "metadata": {
        "id": "BnvK9AUmgBZO"
      },
      "execution_count": null,
      "outputs": []
    }
  ]
}